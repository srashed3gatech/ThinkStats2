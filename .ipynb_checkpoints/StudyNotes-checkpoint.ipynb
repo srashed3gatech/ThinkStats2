{
 "cells": [
  {
   "cell_type": "markdown",
   "metadata": {},
   "source": [
    "# :: 4/28/2017 ::\n",
    "# <a href=\"http://greenteapress.com/thinkstats2/html/\">Think Stats</a>\n",
    "\n",
    "Exploratory Data Analysis\n",
    "\n",
    "\t- Importing and cleaning (clean, transform and check)    \n",
    "\t- Single variable exploration (variable meaning / distribution of values / choose appropriate summary stats)    \n",
    "\t- Pair Wise exploration (identify relationship - table/scatter plot, correlation, linear fit)    \n",
    "\t- Multivariate analysis (if relationship found - multiple regression to add control variable)    \n",
    "\t- Estimation and hypothesis testing (Answer 3 Question\n",
    "    \t\t○ How big is the effect\n",
    "        \t○ Variability over repeated measurement\n",
    "        \t○ Is apparent effect due to chance?)        \n",
    "    - Visualization (communicate result)\n",
    "    \n",
    "Dataset used by this book: \n",
    "\n",
    "The National Survey of Family Growth (NSFG), conducted by the U.S. Centers for Disease Control and Prevention (CDC) to gather\n",
    "\\information on family life, marriage and divorce, pregnancy, infertility, use of contraception, and men's and women's health.\" (See\n",
    "http://cdc.gov/nchs/nsfg.htm.)\n",
    "\n",
    "The Behavioral Risk Factor Surveillance System (BRFSS), conducted\n",
    "by the National Center for Chronic Disease Prevention and Health\n",
    "Promotion to \\track health conditions and risk behaviors in the United\n",
    "States.\" (See http://cdc.gov/BRFSS/.)\n",
    "\n",
    "Get the Book @ http://greenteapress.com/wp/think-stats-2e/"
   ]
  },
  {
   "cell_type": "markdown",
   "metadata": {},
   "source": [
    "# [Chapter 1  Exploratory data analysis] [chapter-1] \n",
    "[chapter-1]: http://greenteapress.com/thinkstats2/html/thinkstats2002.html\n",
    "\n",
    "Anecdotal Evidence fails because -\n",
    "\n",
    "    (1) Small number of observation\n",
    "    (2) Selection bias\n",
    "    (3) Confirmation bias\n",
    "    (4) Inaccuracy (misremembered, misrepresented, repeated inaccuracy..)\n",
    "   \n",
    "Statistical Approach - conclusion that are justifiable and likely correct\n",
    "    \n",
    "    - Data Collection (e.g: survey data)\n",
    "    - Descriptive statistics (summarize data consizely and evaluate diff visualizations)\n",
    "    - Exploratory data analysis (pattern, differences..., inconsitency and limitations)\n",
    "    - Estimation (sample to represent general population)\n",
    "    - Hypothesis testing (test if apparent effect is by chance)\n",
    "    \n",
    "Cross-sectional Study: collects data about different population at different time as a snapshot\n",
    "\n",
    "Longitudinal study: follows same population over time\n",
    "\n",
    "** Variables used: **\n",
    "   \n",
    "   - caseid - respondent id\n",
    "   - prglngth - pregnancy in weeks\n",
    "   - outcome - 1 if live birth\n",
    "   - pregordr - 1 first pregnancy, 2 second pregnancy\n",
    "   - birthord - #for live birth\n",
    "   - birthwgt_lb, birthwgt_oz - weight lb and ounce\n",
    "   - agepreg - mothers age at the end of pregnancy\n",
    "   - finalwgt - #of people in US population represented by this respondent\n",
    "    "
   ]
  },
  {
   "cell_type": "code",
   "execution_count": 85,
   "metadata": {
    "collapsed": false
   },
   "outputs": [
    {
     "data": {
      "text/html": [
       "<style>\n",
       "div.prompt {display:none}\n",
       "</style>\n",
       "#remove IN[] OUT[]"
      ],
      "text/plain": [
       "<IPython.core.display.HTML object>"
      ]
     },
     "metadata": {},
     "output_type": "display_data"
    }
   ],
   "source": [
    "%%HTML\n",
    "<style>\n",
    "div.prompt {display:none}\n",
    "</style>\n",
    "#remove IN[] OUT[]"
   ]
  },
  {
   "cell_type": "code",
   "execution_count": 2,
   "metadata": {
    "collapsed": false
   },
   "outputs": [],
   "source": [
    "from __future__ import print_function, division\n",
    "import sys \n",
    "import os\n",
    "#sys.path.append(os.path.abspath(\"/Users/mamun028/anaconda/my_projects/ThinkStats2/code\"))\n",
    "os.chdir(\"/Users/mamun028/anaconda/my_projects/ThinkStats2/code\")"
   ]
  },
  {
   "cell_type": "code",
   "execution_count": 3,
   "metadata": {
    "collapsed": false
   },
   "outputs": [
    {
     "data": {
      "text/html": [
       "<div style=\"max-height:1000px;max-width:1500px;overflow:auto;\">\n",
       "<table border=\"1\" class=\"dataframe\">\n",
       "  <thead>\n",
       "    <tr style=\"text-align: right;\">\n",
       "      <th></th>\n",
       "      <th>caseid</th>\n",
       "      <th>pregordr</th>\n",
       "      <th>howpreg_n</th>\n",
       "      <th>howpreg_p</th>\n",
       "      <th>moscurrp</th>\n",
       "      <th>nowprgdk</th>\n",
       "      <th>pregend1</th>\n",
       "      <th>pregend2</th>\n",
       "      <th>nbrnaliv</th>\n",
       "      <th>multbrth</th>\n",
       "      <th>...</th>\n",
       "      <th>laborfor_i</th>\n",
       "      <th>religion_i</th>\n",
       "      <th>metro_i</th>\n",
       "      <th>basewgt</th>\n",
       "      <th>adj_mod_basewgt</th>\n",
       "      <th>finalwgt</th>\n",
       "      <th>secu_p</th>\n",
       "      <th>sest</th>\n",
       "      <th>cmintvw</th>\n",
       "      <th>totalwgt_lb</th>\n",
       "    </tr>\n",
       "  </thead>\n",
       "  <tbody>\n",
       "    <tr>\n",
       "      <th>11093</th>\n",
       "      <td> 10229</td>\n",
       "      <td> 1</td>\n",
       "      <td>NaN</td>\n",
       "      <td>NaN</td>\n",
       "      <td>NaN</td>\n",
       "      <td>NaN</td>\n",
       "      <td> 1</td>\n",
       "      <td>NaN</td>\n",
       "      <td>NaN</td>\n",
       "      <td>NaN</td>\n",
       "      <td>...</td>\n",
       "      <td> 0</td>\n",
       "      <td> 0</td>\n",
       "      <td> 0</td>\n",
       "      <td> 1914.323805</td>\n",
       "      <td> 2021.999794</td>\n",
       "      <td> 3369.662656</td>\n",
       "      <td> 2</td>\n",
       "      <td> 65</td>\n",
       "      <td>NaN</td>\n",
       "      <td>    NaN</td>\n",
       "    </tr>\n",
       "    <tr>\n",
       "      <th>11094</th>\n",
       "      <td> 10229</td>\n",
       "      <td> 2</td>\n",
       "      <td>NaN</td>\n",
       "      <td>NaN</td>\n",
       "      <td>NaN</td>\n",
       "      <td>NaN</td>\n",
       "      <td> 1</td>\n",
       "      <td>NaN</td>\n",
       "      <td>NaN</td>\n",
       "      <td>NaN</td>\n",
       "      <td>...</td>\n",
       "      <td> 0</td>\n",
       "      <td> 0</td>\n",
       "      <td> 0</td>\n",
       "      <td> 1914.323805</td>\n",
       "      <td> 2021.999794</td>\n",
       "      <td> 3369.662656</td>\n",
       "      <td> 2</td>\n",
       "      <td> 65</td>\n",
       "      <td>NaN</td>\n",
       "      <td>    NaN</td>\n",
       "    </tr>\n",
       "    <tr>\n",
       "      <th>11095</th>\n",
       "      <td> 10229</td>\n",
       "      <td> 3</td>\n",
       "      <td>NaN</td>\n",
       "      <td>NaN</td>\n",
       "      <td>NaN</td>\n",
       "      <td>NaN</td>\n",
       "      <td> 1</td>\n",
       "      <td>NaN</td>\n",
       "      <td>NaN</td>\n",
       "      <td>NaN</td>\n",
       "      <td>...</td>\n",
       "      <td> 0</td>\n",
       "      <td> 0</td>\n",
       "      <td> 0</td>\n",
       "      <td> 1914.323805</td>\n",
       "      <td> 2021.999794</td>\n",
       "      <td> 3369.662656</td>\n",
       "      <td> 2</td>\n",
       "      <td> 65</td>\n",
       "      <td>NaN</td>\n",
       "      <td>    NaN</td>\n",
       "    </tr>\n",
       "    <tr>\n",
       "      <th>11096</th>\n",
       "      <td> 10229</td>\n",
       "      <td> 4</td>\n",
       "      <td>NaN</td>\n",
       "      <td>NaN</td>\n",
       "      <td>NaN</td>\n",
       "      <td>NaN</td>\n",
       "      <td> 1</td>\n",
       "      <td>NaN</td>\n",
       "      <td>NaN</td>\n",
       "      <td>NaN</td>\n",
       "      <td>...</td>\n",
       "      <td> 0</td>\n",
       "      <td> 0</td>\n",
       "      <td> 0</td>\n",
       "      <td> 1914.323805</td>\n",
       "      <td> 2021.999794</td>\n",
       "      <td> 3369.662656</td>\n",
       "      <td> 2</td>\n",
       "      <td> 65</td>\n",
       "      <td>NaN</td>\n",
       "      <td>    NaN</td>\n",
       "    </tr>\n",
       "    <tr>\n",
       "      <th>11097</th>\n",
       "      <td> 10229</td>\n",
       "      <td> 5</td>\n",
       "      <td>NaN</td>\n",
       "      <td>NaN</td>\n",
       "      <td>NaN</td>\n",
       "      <td>NaN</td>\n",
       "      <td> 1</td>\n",
       "      <td>NaN</td>\n",
       "      <td>NaN</td>\n",
       "      <td>NaN</td>\n",
       "      <td>...</td>\n",
       "      <td> 0</td>\n",
       "      <td> 0</td>\n",
       "      <td> 0</td>\n",
       "      <td> 1914.323805</td>\n",
       "      <td> 2021.999794</td>\n",
       "      <td> 3369.662656</td>\n",
       "      <td> 2</td>\n",
       "      <td> 65</td>\n",
       "      <td>NaN</td>\n",
       "      <td>    NaN</td>\n",
       "    </tr>\n",
       "    <tr>\n",
       "      <th>11098</th>\n",
       "      <td> 10229</td>\n",
       "      <td> 6</td>\n",
       "      <td>NaN</td>\n",
       "      <td>NaN</td>\n",
       "      <td>NaN</td>\n",
       "      <td>NaN</td>\n",
       "      <td> 1</td>\n",
       "      <td>NaN</td>\n",
       "      <td>NaN</td>\n",
       "      <td>NaN</td>\n",
       "      <td>...</td>\n",
       "      <td> 0</td>\n",
       "      <td> 0</td>\n",
       "      <td> 0</td>\n",
       "      <td> 1914.323805</td>\n",
       "      <td> 2021.999794</td>\n",
       "      <td> 3369.662656</td>\n",
       "      <td> 2</td>\n",
       "      <td> 65</td>\n",
       "      <td>NaN</td>\n",
       "      <td>    NaN</td>\n",
       "    </tr>\n",
       "    <tr>\n",
       "      <th>11099</th>\n",
       "      <td> 10229</td>\n",
       "      <td> 7</td>\n",
       "      <td>NaN</td>\n",
       "      <td>NaN</td>\n",
       "      <td>NaN</td>\n",
       "      <td>NaN</td>\n",
       "      <td> 6</td>\n",
       "      <td>NaN</td>\n",
       "      <td>  1</td>\n",
       "      <td>NaN</td>\n",
       "      <td>...</td>\n",
       "      <td> 0</td>\n",
       "      <td> 0</td>\n",
       "      <td> 0</td>\n",
       "      <td> 1914.323805</td>\n",
       "      <td> 2021.999794</td>\n",
       "      <td> 3369.662656</td>\n",
       "      <td> 2</td>\n",
       "      <td> 65</td>\n",
       "      <td>NaN</td>\n",
       "      <td> 7.6875</td>\n",
       "    </tr>\n",
       "  </tbody>\n",
       "</table>\n",
       "<p>7 rows × 244 columns</p>\n",
       "</div>"
      ],
      "text/plain": [
       "       caseid  pregordr  howpreg_n  howpreg_p  moscurrp  nowprgdk  pregend1  \\\n",
       "11093   10229         1        NaN        NaN       NaN       NaN         1   \n",
       "11094   10229         2        NaN        NaN       NaN       NaN         1   \n",
       "11095   10229         3        NaN        NaN       NaN       NaN         1   \n",
       "11096   10229         4        NaN        NaN       NaN       NaN         1   \n",
       "11097   10229         5        NaN        NaN       NaN       NaN         1   \n",
       "11098   10229         6        NaN        NaN       NaN       NaN         1   \n",
       "11099   10229         7        NaN        NaN       NaN       NaN         6   \n",
       "\n",
       "       pregend2  nbrnaliv  multbrth    ...     laborfor_i  religion_i  \\\n",
       "11093       NaN       NaN       NaN    ...              0           0   \n",
       "11094       NaN       NaN       NaN    ...              0           0   \n",
       "11095       NaN       NaN       NaN    ...              0           0   \n",
       "11096       NaN       NaN       NaN    ...              0           0   \n",
       "11097       NaN       NaN       NaN    ...              0           0   \n",
       "11098       NaN       NaN       NaN    ...              0           0   \n",
       "11099       NaN         1       NaN    ...              0           0   \n",
       "\n",
       "       metro_i      basewgt  adj_mod_basewgt     finalwgt  secu_p  sest  \\\n",
       "11093        0  1914.323805      2021.999794  3369.662656       2    65   \n",
       "11094        0  1914.323805      2021.999794  3369.662656       2    65   \n",
       "11095        0  1914.323805      2021.999794  3369.662656       2    65   \n",
       "11096        0  1914.323805      2021.999794  3369.662656       2    65   \n",
       "11097        0  1914.323805      2021.999794  3369.662656       2    65   \n",
       "11098        0  1914.323805      2021.999794  3369.662656       2    65   \n",
       "11099        0  1914.323805      2021.999794  3369.662656       2    65   \n",
       "\n",
       "       cmintvw  totalwgt_lb  \n",
       "11093      NaN          NaN  \n",
       "11094      NaN          NaN  \n",
       "11095      NaN          NaN  \n",
       "11096      NaN          NaN  \n",
       "11097      NaN          NaN  \n",
       "11098      NaN          NaN  \n",
       "11099      NaN       7.6875  \n",
       "\n",
       "[7 rows x 244 columns]"
      ]
     },
     "execution_count": 3,
     "metadata": {},
     "output_type": "execute_result"
    }
   ],
   "source": [
    "import nsfg\n",
    "df = nsfg.ReadFemPreg()\n",
    "caseid = 10229\n",
    "preg_map = nsfg.MakePregMap(df)\n",
    "indices = preg_map[caseid]\n",
    "df[df['caseid']==10229]"
   ]
  },
  {
   "cell_type": "code",
   "execution_count": 47,
   "metadata": {
    "collapsed": false
   },
   "outputs": [
    {
     "data": {
      "text/plain": [
       "array([4, 4, 4, 4, 4, 4, 1])"
      ]
     },
     "execution_count": 47,
     "metadata": {},
     "output_type": "execute_result"
    }
   ],
   "source": [
    "df.outcome[indices].values"
   ]
  },
  {
   "cell_type": "markdown",
   "metadata": {},
   "source": [
    "<h1>:: 4/29/2017 ::</h1>\n",
    "# [Chapter 2 Distributions] [chapter-2]\n",
    "[chapter-2]: http://greenteapress.com/thinkstats2/html/thinkstats2003.html\n",
    "\n",
    "\n",
    "** Distribution ** is how many times a value is appeared in the dataset. ** Histogram ** is most common way to represent distribution (graph showing frequency of each value)\n",
    "\n",
    "```python\n",
    "#map from values to frequency using dictionary\n",
    "hist = {}\n",
    "for x in t:\n",
    "    hist[x] = hist.get(x,0) + 1\n",
    "#or use counter (subclass of dictionary)\n",
    "counter = counter(t)\n",
    "#or use value_counts from pandas\n",
    "#this book usage Hist class (custom)\n",
    "```"
   ]
  },
  {
   "cell_type": "code",
   "execution_count": 7,
   "metadata": {
    "collapsed": false
   },
   "outputs": [
    {
     "name": "stdout",
     "output_type": "stream",
     "text": [
      "1 1\n",
      "2 2\n",
      "3 1\n",
      "5 1\n"
     ]
    }
   ],
   "source": [
    "import thinkstats2\n",
    "hist = thinkstats2.Hist([1,2,2,3,5])\n",
    "for val in sorted(hist.Values()):\n",
    "    print(val, hist.Freq(val))"
   ]
  },
  {
   "cell_type": "code",
   "execution_count": 9,
   "metadata": {
    "collapsed": false
   },
   "outputs": [
    {
     "data": {
      "image/png": "[encoded data removed]",
      "text/plain": [
       "<matplotlib.figure.Figure at 0x10e08f610>"
      ]
     },
     "metadata": {},
     "output_type": "display_data"
    },
    {
     "data": {
      "text/plain": [
       "<matplotlib.figure.Figure at 0x117d0cd50>"
      ]
     },
     "metadata": {},
     "output_type": "display_data"
    }
   ],
   "source": [
    "%matplotlib inline\n",
    "import thinkplot\n",
    "thinkplot.Hist(hist)\n",
    "thinkplot.Show(xlabel='value', ylable='frequency')"
   ]
  },
  {
   "cell_type": "markdown",
   "metadata": {
    "collapsed": true
   },
   "source": [
    "** Explore ** variable one at a time - and ** histogram ** is a good way to do that\n"
   ]
  },
  {
   "cell_type": "code",
   "execution_count": 4,
   "metadata": {
    "collapsed": true
   },
   "outputs": [],
   "source": [
    "import nsfg\n",
    "preg = nsfg.ReadFemPreg()"
   ]
  },
  {
   "cell_type": "code",
   "execution_count": 5,
   "metadata": {
    "collapsed": true
   },
   "outputs": [],
   "source": [
    "live = preg[preg.outcome == 1]"
   ]
  },
  {
   "cell_type": "code",
   "execution_count": 12,
   "metadata": {
    "collapsed": false
   },
   "outputs": [
    {
     "data": {
      "image/png": "[encoded data removed]",
      "text/plain": [
       "<matplotlib.figure.Figure at 0x117ac8710>"
      ]
     },
     "metadata": {},
     "output_type": "display_data"
    },
    {
     "data": {
      "text/plain": [
       "<matplotlib.figure.Figure at 0x117c71750>"
      ]
     },
     "metadata": {},
     "output_type": "display_data"
    }
   ],
   "source": [
    "# plot birthwgt_lb for live birts\n",
    "hist = thinkstats2.Hist(live.birthwgt_lb, label=\"birthwgt_lb\")\n",
    "thinkplot.Hist(hist)\n",
    "thinkplot.Show(xlabel='pounds', ylabel='frequency', \n",
    "               title='Pound part of birth weight')"
   ]
  },
  {
   "cell_type": "markdown",
   "metadata": {},
   "source": [
    "** mode ** is 7\n",
    "\n",
    "Distribution is approximately **bell-shaped** - shape of normal distribution - a.k.a **Gaussian distribution**. Unlike true normal it's asymmetric distribution, tail extends farther to the left than right"
   ]
  },
  {
   "cell_type": "code",
   "execution_count": 20,
   "metadata": {
    "collapsed": false
   },
   "outputs": [
    {
     "data": {
      "image/png": "[encoded data removed]",
      "text/plain": [
       "<matplotlib.figure.Figure at 0x11916c190>"
      ]
     },
     "metadata": {},
     "output_type": "display_data"
    },
    {
     "data": {
      "text/plain": [
       "<matplotlib.figure.Figure at 0x1193f8c50>"
      ]
     },
     "metadata": {},
     "output_type": "display_data"
    }
   ],
   "source": [
    "hist = thinkstats2.Hist(live.birthwgt_oz, label=\"birthwgt_oz\")\n",
    "thinkplot.Hist(hist)\n",
    "thinkplot.Show(xlabel='ounce', ylabel='frequency', \n",
    "               title='Ounce part of birth weight')"
   ]
  },
  {
   "cell_type": "markdown",
   "metadata": {},
   "source": [
    "Theoritically expected distribution is **uniform** (all values should have same frequency. In fact 0 is more common and 1 & 15 are less common, may be because respondents round off birth weights to closest integers"
   ]
  },
  {
   "cell_type": "code",
   "execution_count": 52,
   "metadata": {
    "collapsed": false
   },
   "outputs": [
    {
     "data": {
      "image/png": "[encoded data removed]",
      "text/plain": [
       "<matplotlib.figure.Figure at 0x117aa4b90>"
      ]
     },
     "metadata": {},
     "output_type": "display_data"
    },
    {
     "data": {
      "text/plain": [
       "<matplotlib.figure.Figure at 0x117c26710>"
      ]
     },
     "metadata": {},
     "output_type": "display_data"
    }
   ],
   "source": [
    "import numpy as np\n",
    "hist = thinkstats2.Hist(np.floor(live.agepreg), label=\"agepreg\")\n",
    "thinkplot.Hist(hist)\n",
    "thinkplot.Show(xlabel='years', ylabel='frequency', \n",
    "               title='Mothers age at the end of pregnancy')"
   ]
  },
  {
   "cell_type": "markdown",
   "metadata": {},
   "source": [
    "mode is 21. Distribution is very roughtly bell-shaped, but tail extends farther to the right. Most mother are in their 20s, fewer in their 30s"
   ]
  },
  {
   "cell_type": "code",
   "execution_count": 22,
   "metadata": {
    "collapsed": false
   },
   "outputs": [
    {
     "data": {
      "image/png": "[encoded data removed]",
      "text/plain": [
       "<matplotlib.figure.Figure at 0x112f89550>"
      ]
     },
     "metadata": {},
     "output_type": "display_data"
    },
    {
     "data": {
      "text/plain": [
       "<matplotlib.figure.Figure at 0x119021b50>"
      ]
     },
     "metadata": {},
     "output_type": "display_data"
    }
   ],
   "source": [
    "hist = thinkstats2.Hist(live.prglngth, label=\"prglngth\")\n",
    "thinkplot.Hist(hist)\n",
    "thinkplot.Show(xlabel='weeks', ylabel='frequency', \n",
    "               title='Pregnancy length in weeks')"
   ]
  },
  {
   "cell_type": "markdown",
   "metadata": {},
   "source": [
    "Most common value is 39 weeks. Left tail is longer, i.e. early babies are common but pregnancies seldom go past 43 weeks and doctors often intervene if they do"
   ]
  },
  {
   "cell_type": "markdown",
   "metadata": {},
   "source": [
    "**Outliers** extreme values that might be errors in measurement and recording, or might be accurate report of rare events"
   ]
  },
  {
   "cell_type": "code",
   "execution_count": 23,
   "metadata": {
    "collapsed": false
   },
   "outputs": [
    {
     "name": "stdout",
     "output_type": "stream",
     "text": [
      "0 1\n",
      "4 1\n",
      "9 1\n",
      "13 1\n",
      "17 2\n",
      "18 1\n",
      "19 1\n",
      "20 1\n",
      "21 2\n",
      "22 7\n"
     ]
    }
   ],
   "source": [
    "for weeks, freq in hist.Smallest(10):\n",
    "    print(weeks, freq)"
   ]
  },
  {
   "cell_type": "markdown",
   "metadata": {},
   "source": [
    "- Values < 10 are certainly errors. May be outcome wasn't coded correctly. \n",
    "- Values > 30 weeks are probably legit\n",
    "- 10 < Values < 30 - hard to be sure, some values probably error while some are premature babies"
   ]
  },
  {
   "cell_type": "code",
   "execution_count": 25,
   "metadata": {
    "collapsed": false
   },
   "outputs": [
    {
     "name": "stdout",
     "output_type": "stream",
     "text": [
      "50 2\n",
      "48 7\n",
      "47 1\n",
      "46 1\n",
      "45 10\n",
      "44 46\n",
      "43 148\n",
      "42 328\n",
      "41 587\n",
      "40 1116\n"
     ]
    }
   ],
   "source": [
    "for weeks, freq in hist.Largest(10):\n",
    "    print(weeks, freq)"
   ]
  },
  {
   "cell_type": "markdown",
   "metadata": {},
   "source": [
    "Most doctor recommend induced labor if pregnancy > 42 weeks, so some longer values are surprising. 50 weeks seems medically unlikely\n",
    "\n",
    "\n",
    "Outlier detection depends on **domain knowledge**. \n",
    "\n",
    "Our question **'Whether first babies tend ot be early (or late)'** usually interested in full-term pregnancies, so lets focus on pregnancies > 27 weeks"
   ]
  },
  {
   "cell_type": "markdown",
   "metadata": {},
   "source": [
    "**First babies**:\n",
    "compare distribution of pregnancy lenghts for first babies and others"
   ]
  },
  {
   "cell_type": "code",
   "execution_count": 31,
   "metadata": {
    "collapsed": false
   },
   "outputs": [
    {
     "data": {
      "image/png": "[encoded data removed]",
      "text/plain": [
       "<matplotlib.figure.Figure at 0x117b97e10>"
      ]
     },
     "metadata": {},
     "output_type": "display_data"
    },
    {
     "data": {
      "text/plain": [
       "<matplotlib.figure.Figure at 0x117c16a90>"
      ]
     },
     "metadata": {},
     "output_type": "display_data"
    }
   ],
   "source": [
    "firsts = live[live.birthord == 1]\n",
    "others = live[live.birthord != 1]\n",
    "\n",
    "first_hist = thinkstats2.Hist(firsts.prglngth)\n",
    "other_hist = thinkstats2.Hist(others.prglngth)\n",
    "\n",
    "width = 0.45\n",
    "thinkplot.PrePlot(2)\n",
    "#align left right of the x tick (default is center)\n",
    "thinkplot.Hist(first_hist, align='right', \n",
    "               width=width, label='first')\n",
    "thinkplot.Hist(other_hist, align='left', \n",
    "               width=width, label='other')\n",
    "#show only data between 27 and 46 weeks\n",
    "thinkplot.Show(xlabel='weeks', ylabel='frequency', \n",
    "               title='Pregnancy Length 1st vs Other', \n",
    "               xlim=[27,46])"
   ]
  },
  {
   "cell_type": "markdown",
   "metadata": {},
   "source": [
    "**Histogram** making most frequent values immediately apparent. But **not best choice for comparing two distribution**. => There are fewer 'first babies' than 'other', so apparent differences are due to **sample size**. **Probability Mass Function (PDF)** addresses this"
   ]
  },
  {
   "cell_type": "markdown",
   "metadata": {},
   "source": [
    "** *Summarizing Distribution* **\n",
    "\n",
    "*if details of distribution important we can present histogram*. But often use these descriptive statistics to summarize\n",
    "\n",
    "- **Central Tendency** *cluster around particular point?*\n",
    "- **Modes** *more than one cluster?*\n",
    "- **Spread** *variability in the values* \n",
    "- **Tails** *how quickly probabilites drop off as they move away from modes?*\n",
    "- **Outliers** *extreme values far from mode?*"
   ]
  },
  {
   "cell_type": "markdown",
   "metadata": {},
   "source": [
    "** Summary Statistics **\n",
    "\n",
    "- **Mean** - central tendency\n",
    "- **Variance** - spread/variability\n",
    "    \n",
    "    [*mean squared deviation (x - mean x)^2 / n*]\n",
    "    \n",
    "    [*SQRT of variance is Standard Deviation*]\n",
    "    "
   ]
  },
  {
   "cell_type": "code",
   "execution_count": 36,
   "metadata": {
    "collapsed": false
   },
   "outputs": [
    {
     "name": "stdout",
     "output_type": "stream",
     "text": [
      "Mean: 38.5605596852 weeks\n",
      "Variance: 7.30266206783 weeks\n",
      "Standard Deviation: 2.70234381007 weeks\n"
     ]
    }
   ],
   "source": [
    "print(\"Mean: %s weeks\"%live.prglngth.mean())\n",
    "print(\"Variance: %s weeks\"%live.prglngth.var())\n",
    "print(\"Standard Deviation: %s weeks\"%live.prglngth.std())"
   ]
  },
  {
   "cell_type": "markdown",
   "metadata": {},
   "source": [
    "So, expecting 2-3 weeks deviation is common"
   ]
  },
  {
   "cell_type": "code",
   "execution_count": 41,
   "metadata": {
    "collapsed": false
   },
   "outputs": [
    {
     "data": {
      "text/plain": [
       "count    4413.000000\n",
       "mean       38.600952\n",
       "std         2.791901\n",
       "min         0.000000\n",
       "25%        39.000000\n",
       "50%        39.000000\n",
       "75%        40.000000\n",
       "max        48.000000\n",
       "dtype: float64"
      ]
     },
     "execution_count": 41,
     "metadata": {},
     "output_type": "execute_result"
    }
   ],
   "source": [
    "firsts.prglngth.describe()"
   ]
  },
  {
   "cell_type": "code",
   "execution_count": 42,
   "metadata": {
    "collapsed": false
   },
   "outputs": [
    {
     "data": {
      "text/plain": [
       "count    4735.000000\n",
       "mean       38.522914\n",
       "std         2.615852\n",
       "min         4.000000\n",
       "25%        39.000000\n",
       "50%        39.000000\n",
       "75%        39.000000\n",
       "max        50.000000\n",
       "dtype: float64"
      ]
     },
     "execution_count": 42,
     "metadata": {},
     "output_type": "execute_result"
    }
   ],
   "source": [
    "others.prglngth.describe()"
   ]
  },
  {
   "cell_type": "markdown",
   "metadata": {},
   "source": [
    "**Effect Size**: Firsts vs others has 0.078 weeks (13 hrs or 0.2%) difference. If we assume this estimate is accurate, there is no practical consequences. In fact, without observing large number of pregnancies, it's unlikely anyone would notice difference at all.\n",
    "\n",
    "**Cohen's d**: compare difference between groups to the variability within groups."
   ]
  },
  {
   "cell_type": "code",
   "execution_count": 50,
   "metadata": {
    "collapsed": false
   },
   "outputs": [
    {
     "data": {
      "text/plain": [
       "0.028879044654449841"
      ]
     },
     "execution_count": 50,
     "metadata": {},
     "output_type": "execute_result"
    }
   ],
   "source": [
    "import math\n",
    "def CohenEffectSize(group1, group2):\n",
    "    diff = group1.mean() - group2.mean()\n",
    "    var1 = group1.var()\n",
    "    var2 = group2.var()\n",
    "    n1, n2 = len(group1), len(group2)\n",
    "    \n",
    "    pooled_var = (n1 * var1 + n2 * var2) / (n1+n2)\n",
    "    d = diff / math.sqrt(pooled_var)\n",
    "    return d\n",
    "CohenEffectSize(firsts.prglngth, others.prglngth)"
   ]
  },
  {
   "cell_type": "markdown",
   "metadata": {},
   "source": [
    "Difference in mean is small = 0.029 std dev. The difference in preg lenght between first and other babies is 0.029 SD"
   ]
  },
  {
   "cell_type": "markdown",
   "metadata": {},
   "source": [
    "**Reporting results**\n",
    "\n",
    "We have seen several ways to describe the difference in pregnancy length (if there is one) between first babies and others. How should we report these results?\n",
    "The answer depends on **who is asking the question**. A scientist might be interested in *any (real) effect*, no matter how small. A doctor might only care about effects that are *clinically significant*; that is, differences that affect treatment decisions. A pregnant woman might be interested in results that are relevant to her, like the *probability of delivering early or late*.\n",
    "\n",
    "How you report results also **depends on your goals**. If you are trying to *demonstrate the importance of an effect, you might choose summary statistics that emphasize differences*. If you are trying to reassure a patient, you might choose statistics that put the differences in context.\n",
    "\n",
    "Of course your decisions should also be guided by **professional ethics**. It’s ok to be persuasive; you should design statistical reports and visualizations that tell a story clearly. But you should also do your best to make your reports honest, and to acknowledge uncertainty and limitations."
   ]
  },
  {
   "cell_type": "markdown",
   "metadata": {},
   "source": [
    "**Takeaway**\n",
    "\n",
    "- **distribution**: The values that appear in a sample and the frequency of each.\n",
    "- **histogram**: A mapping from values to frequencies, or a graph that shows this mapping.\n",
    "- **frequency**: The number of times a value appears in a sample.\n",
    "- **mode**: The most frequent value in a sample, or one of the most frequent values.\n",
    "- **normal distribution**: An idealization of a bell-shaped distribution; also known as a Gaussian distribution.\n",
    "- **uniform distribution**: A distribution in which all values have the same frequency.\n",
    "- **tail**: The part of a distribution at the high and low extremes.\n",
    "- **central tendency**: A characteristic of a sample or population; intuitively, it is an average or typical value.\n",
    "- **outlier**: A value far from the central tendency.\n",
    "- **spread**: A measure of how spread out the values in a distribution are.\n",
    "- **summary statistic**: A statistic that quantifies some aspect of a distribution, like central tendency or spread.\n",
    "- **variance**: A summary statistic often used to quantify spread.\n",
    "- **standard deviation**: The square root of variance, also used as a measure of spread.\n",
    "- **effect size**: A summary statistic intended to quantify the size of an effect like a difference between groups.\n",
    "- **clinically significant**: A result, like a difference between groups, that is relevant in practice."
   ]
  },
  {
   "cell_type": "markdown",
   "metadata": {},
   "source": [
    "#[Chapter 3 *Probability Mass Function*][chapter-3]\n",
    "[chapter-3]: http://greenteapress.com/thinkstats2/html/thinkstats2004.html\n",
    "\n",
    "- **Probability Mass Function (PMF):** represent distribution as a function of values to probabilities\n",
    "- **Probability:** a frequency expressed as a fraction of the sample size\n",
    "- **Normalization:**  = (frequency / sample_size)\n",
    "- **Index:** special pandas df column coantains row labels\n",
    "\n",
    "```python\n",
    "n = hist.Total()\n",
    "d = {}\n",
    "for x, freq in hist.Items():\n",
    "    d[x] = freq / n\n",
    "```"
   ]
  },
  {
   "cell_type": "code",
   "execution_count": 69,
   "metadata": {
    "collapsed": false
   },
   "outputs": [
    {
     "data": {
      "text/plain": [
       "Pmf({1: 0.2, 2: 0.4, 3: 0.2, 5: 0.2})"
      ]
     },
     "execution_count": 69,
     "metadata": {},
     "output_type": "execute_result"
    }
   ],
   "source": [
    "#class Pmf\n",
    "import thinkstats2\n",
    "pmf = thinkstats2.Pmf([1,2,2,3,5])\n",
    "pmf"
   ]
  },
  {
   "cell_type": "markdown",
   "metadata": {},
   "source": [
    "*Pmf is normalized, so total probability is 1*\n",
    "\n",
    "* Hist - maps from values to integer counters\n",
    "* Pmf - maps from values to float probabilities"
   ]
  },
  {
   "cell_type": "code",
   "execution_count": 70,
   "metadata": {
    "collapsed": false
   },
   "outputs": [
    {
     "data": {
      "text/plain": [
       "1.0"
      ]
     },
     "execution_count": 70,
     "metadata": {},
     "output_type": "execute_result"
    }
   ],
   "source": [
    "pmf.Total()"
   ]
  },
  {
   "cell_type": "code",
   "execution_count": 100,
   "metadata": {
    "collapsed": false
   },
   "outputs": [
    {
     "data": {
      "image/png": "[encoded data removed]",
      "text/plain": [
       "<matplotlib.figure.Figure at 0x1179bba50>"
      ]
     },
     "metadata": {},
     "output_type": "display_data"
    },
    {
     "data": {
      "text/plain": [
       "<matplotlib.figure.Figure at 0x117ded050>"
      ]
     },
     "metadata": {},
     "output_type": "display_data"
    }
   ],
   "source": [
    "firsts = live[live.birthord == 1]\n",
    "others = live[live.birthord != 1]\n",
    "\n",
    "first_pmf = thinkstats2.Pmf(firsts.prglngth, label='first')\n",
    "other_pmf = thinkstats2.Pmf(others.prglngth, label='other')\n",
    "\n",
    "width = 0.45\n",
    "thinkplot.PrePlot(2, cols=2)\n",
    "#align left right of the x tick (default is center)\n",
    "thinkplot.Hist(first_pmf, align='right', \n",
    "               width=width, label='first')\n",
    "thinkplot.Hist(other_pmf, align='left', \n",
    "               width=width, label='other')\n",
    "#show only data between 27 and 46 weeks\n",
    "thinkplot.Config(xlabel='weeks', ylabel='probability', \n",
    "               title='Pregnancy Length 1st vs Other', \n",
    "               axis=[27,46,0,0.6])\n",
    "\n",
    "thinkplot.PrePlot(2) #reset color generator\n",
    "thinkplot.SubPlot(2) #switch to second figure\n",
    "thinkplot.Pmfs([first_pmf, other_pmf])\n",
    "thinkplot.Show(xlabel='weeks', axis=[27,46,0,0.6]) #axis option ensure two figures are on same axes"
   ]
  },
  {
   "cell_type": "markdown",
   "metadata": {},
   "source": [
    "*by plotting PMF instead of histogram, we can compare two distributions without being misled by the difference in sample size.*\n",
    "\n",
    "first babies seems to be less likely than others to arrive on time (week 39) and more likely to be late\n",
    "\n",
    "* Histograms and PMFs are useful while exploring data and trying to identify pattern and relationships"
   ]
  },
  {
   "cell_type": "markdown",
   "metadata": {},
   "source": [
    "- Next Step: visualization that represent already identified patterns clearly\n",
    "    - Lets now zoom in to the part where the biggest differnces is in the distribution (near the mode)"
   ]
  },
  {
   "cell_type": "code",
   "execution_count": 79,
   "metadata": {
    "collapsed": false
   },
   "outputs": [
    {
     "data": {
      "image/png": "[encoded data removed]",
      "text/plain": [
       "<matplotlib.figure.Figure at 0x112eae7d0>"
      ]
     },
     "metadata": {},
     "output_type": "display_data"
    }
   ],
   "source": [
    "weeks = range(35, 46)\n",
    "diffs = [] #diff between 2 PMFs in percentage\n",
    "for week in weeks:\n",
    "    p1 = first_pmf.Prob(week)\n",
    "    p2 = other_pmf.Prob(week)\n",
    "    diff = 100 * (p1 - p2)\n",
    "    diffs.append(diff)\n",
    "thinkplot.Bar(weeks, diffs)"
   ]
  },
  {
   "cell_type": "markdown",
   "metadata": {},
   "source": [
    "- First babies are less likely to be born in week-39\n",
    "- First babies are more likely to be born in week 41 and 42\n",
    "\n",
    "*but we are not sure if this effect is real; it might be due to a random variation*"
   ]
  },
  {
   "cell_type": "markdown",
   "metadata": {},
   "source": [
    "**Class Size Paradox**\n",
    "\n",
    "- student-to-faculty ration is about 10:1\n",
    "- *number of students who enjoy a small class is small, but the number of students in a large class is large!*"
   ]
  },
  {
   "cell_type": "code",
   "execution_count": 92,
   "metadata": {
    "collapsed": false
   },
   "outputs": [
    {
     "name": "stdout",
     "output_type": "stream",
     "text": [
      "mean (avg class size) 23.6923076923\n"
     ]
    },
    {
     "data": {
      "text/plain": [
       "Pmf({32: 0.18461538461538463, 37: 0.12307692307692308, 7: 0.12307692307692308, 42: 0.046153846153846156, 12: 0.12307692307692308, 47: 0.03076923076923077, 17: 0.2153846153846154, 22: 0.06153846153846154, 27: 0.09230769230769231})"
      ]
     },
     "execution_count": 92,
     "metadata": {},
     "output_type": "execute_result"
    }
   ],
   "source": [
    "#student size - number of class\n",
    "d = { 7: 8, 12: 8, 17: 14, 22: 4, 27: 6, 32: 12, 37: 8, 42: 3, 47: 2 }\n",
    "pmf = thinkstats2.Pmf(d, label='actual')\n",
    "print('mean (avg class size)', pmf.Mean())\n",
    "pmf"
   ]
  },
  {
   "cell_type": "markdown",
   "metadata": {},
   "source": [
    "- ask the students and avg it - you'll find > 23"
   ]
  },
  {
   "cell_type": "code",
   "execution_count": 96,
   "metadata": {
    "collapsed": false
   },
   "outputs": [
    {
     "data": {
      "image/png": "[encoded data removed]",
      "text/plain": [
       "<matplotlib.figure.Figure at 0x1179aa550>"
      ]
     },
     "metadata": {},
     "output_type": "display_data"
    },
    {
     "data": {
      "text/plain": [
       "<matplotlib.figure.Figure at 0x1190761d0>"
      ]
     },
     "metadata": {},
     "output_type": "display_data"
    }
   ],
   "source": [
    "def BiasPmf(pmf, label):\n",
    "    new_pmf = pmf.Copy(label=label)\n",
    "    \n",
    "    # for each class size x, \n",
    "    # multiply the probability by x - #of student who \n",
    "    #  observed the class size\n",
    "    # The result is a biased distribution\n",
    "    \n",
    "    for x, p in pmf.Items():\n",
    "        new_pmf.Mult(x, x) \n",
    "    \n",
    "    new_pmf.Normalize()\n",
    "    return new_pmf\n",
    "\n",
    "biased_pmf = BiasPmf(pmf, label='observed')\n",
    "thinkplot.PrePlot(2)\n",
    "thinkplot.Pmfs([pmf, biased_pmf])\n",
    "thinkplot.Show(xlabel='class size', ylabel='PMF')"
   ]
  },
  {
   "cell_type": "markdown",
   "metadata": {},
   "source": [
    "*In biased distribution there are fewer small classes and more larger ones\n",
    "\n",
    "- But how about using biased to get unbiased?"
   ]
  },
  {
   "cell_type": "code",
   "execution_count": 99,
   "metadata": {
    "collapsed": true
   },
   "outputs": [],
   "source": [
    "def UnbiasPmf(pmf, label):\n",
    "    new_pmf = pmf.Copy(label=label)\n",
    "    for x, p in pmf.Items():\n",
    "        new_pmf.Mult(x, 1.0/x) #bias to unbias\n",
    "    new_pmf.Normalize()\n",
    "    return new_pmf"
   ]
  },
  {
   "cell_type": "markdown",
   "metadata": {},
   "source": [
    "#[Chapter 4 *Cumulative distribution function*][chapter-4]\n",
    "[chapter-4]: http://greenteapress.com/thinkstats2/html/thinkstats2005.html\n",
    "\n",
    "- **Percentile rank:** % of value in distribution that are less than or equal to a given value\n",
    "- **CDF:** function maps from values to their cumulative probabilities. CDF(x) is fraction o fthe sample less than or equal to x\n",
    "- **Inverse CDF:** function maps from cumulative prob p to corresponding value\n",
    "- **Median:** 50th percentile (measure of central tendency)\n",
    "- **Interquartile Range**: measure of spread, differnce between 75th and 25th percentile\n",
    "\n"
   ]
  },
  {
   "cell_type": "code",
   "execution_count": null,
   "metadata": {
    "collapsed": true
   },
   "outputs": [],
   "source": []
  },
  {
   "cell_type": "code",
   "execution_count": null,
   "metadata": {
    "collapsed": true
   },
   "outputs": [],
   "source": []
  }
 ],
 "metadata": {
  "kernelspec": {
   "display_name": "Python 2",
   "language": "python",
   "name": "python2"
  },
  "language_info": {
   "codemirror_mode": {
    "name": "ipython",
    "version": 2
   },
   "file_extension": ".py",
   "mimetype": "text/x-python",
   "name": "python",
   "nbconvert_exporter": "python",
   "pygments_lexer": "ipython2",
   "version": "2.7.13"
  }
 },
 "nbformat": 4,
 "nbformat_minor": 2
}
