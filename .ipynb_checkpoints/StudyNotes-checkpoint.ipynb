{
 "cells": [
  {
   "cell_type": "markdown",
   "metadata": {},
   "source": [
    "# :: 4/28/2017 ::\n",
    "<a href=\"http://greenteapress.com/thinkstats2/html/\">Think Stats</a>\n",
    "\n",
    "Exploratory Data Analysis\n",
    "\n",
    "\t- Importing and cleaning (clean, transform and check)    \n",
    "\t- Single variable exploration (variable meaning / distribution of values / choose appropriate summary stats)    \n",
    "\t- Pair Wise exploration (identify relationship - table/scatter plot, correlation, linear fit)    \n",
    "\t- Multivariate analysis (if relationship found - multiple regression to add control variable)    \n",
    "\t- Estimation and hypothesis testing (Answer 3 Question\n",
    "    \t\t○ How big is the effect\n",
    "        \t○ Variability over repeated measurement\n",
    "        \t○ Is apparent effect due to chance?)        \n",
    "    - Visualization (communicate result)\n",
    "    \n",
    "Dataset used by this book: \n",
    "\n",
    "The National Survey of Family Growth (NSFG), conducted by the U.S. Centers for Disease Control and Prevention (CDC) to gather\n",
    "\\information on family life, marriage and divorce, pregnancy, infertility, use of contraception, and men's and women's health.\" (See\n",
    "http://cdc.gov/nchs/nsfg.htm.)\n",
    "\n",
    "The Behavioral Risk Factor Surveillance System (BRFSS), conducted\n",
    "by the National Center for Chronic Disease Prevention and Health\n",
    "Promotion to \\track health conditions and risk behaviors in the United\n",
    "States.\" (See http://cdc.gov/BRFSS/.)\n",
    "\n",
    "Get the Book @ http://greenteapress.com/wp/think-stats-2e/"
   ]
  },
  {
   "cell_type": "markdown",
   "metadata": {},
   "source": [
    "# [Chapter-1] [chapter-1] \n",
    "[chapter-1]: http://greenteapress.com/thinkstats2/html/thinkstats2002.html\n",
    "\n",
    "Anecdotal Evidence fails because -\n",
    "\n",
    "    (1) Small number of observation\n",
    "    (2) Selection bias\n",
    "    (3) Confirmation bias\n",
    "    (4) Inaccuracy (misremembered, misrepresented, repeated inaccuracy..)\n",
    "   \n",
    "Statistical Approach - conclusion that are justifiable and likely correct\n",
    "    \n",
    "    - Data Collection (e.g: survey data)\n",
    "    - Descriptive statistics (summarize data consizely and evaluate diff visualizations)\n",
    "    - Exploratory data analysis (pattern, differences..., inconsitency and limitations)\n",
    "    - Estimation (sample to represent general population)\n",
    "    - Hypothesis testing (test if apparent effect is by chance)\n",
    "    \n",
    "Cross-sectional Study: collects data about different population at different time as a snapshot\n",
    "\n",
    "Longitudinal study: follows same population over time\n",
    "\n",
    "** Variables used: **\n",
    "   \n",
    "   - caseid - respondent id\n",
    "   - prglngth - pregnancy in weeks\n",
    "   - outcome - 1 if live birth\n",
    "   - pregordr - 1 first pregnancy, 2 second pregnancy\n",
    "   - birthord - #for live birth\n",
    "   - birthwgt_lb, birthwgt_oz - weight lb and ounce\n",
    "   - agepreg - mothers age at the end of pregnancy\n",
    "   - finalwgt - #of people in US population represented by this respondent\n",
    "    "
   ]
  },
  {
   "cell_type": "code",
   "execution_count": 15,
   "metadata": {
    "collapsed": false
   },
   "outputs": [
    {
     "ename": "SyntaxError",
     "evalue": "unexpected character after line continuation character (<ipython-input-15-92516709f798>, line 3)",
     "output_type": "error",
     "traceback": [
      "\u001b[0;36m  File \u001b[0;32m\"<ipython-input-15-92516709f798>\"\u001b[0;36m, line \u001b[0;32m3\u001b[0m\n\u001b[0;31m    from .\\lib\\nsfg import nsfg\u001b[0m\n\u001b[0m                               ^\u001b[0m\n\u001b[0;31mSyntaxError\u001b[0m\u001b[0;31m:\u001b[0m unexpected character after line continuation character\n"
     ]
    }
   ],
   "source": [
    "from __future__ import print_function, division\n",
    "\n",
    "from lib\\nsfg import nsfg"
   ]
  },
  {
   "cell_type": "code",
   "execution_count": null,
   "metadata": {
    "collapsed": true
   },
   "outputs": [],
   "source": []
  }
 ],
 "metadata": {
  "kernelspec": {
   "display_name": "Python 2",
   "language": "python",
   "name": "python2"
  },
  "language_info": {
   "codemirror_mode": {
    "name": "ipython",
    "version": 2
   },
   "file_extension": ".py",
   "mimetype": "text/x-python",
   "name": "python",
   "nbconvert_exporter": "python",
   "pygments_lexer": "ipython2",
   "version": "2.7.13"
  }
 },
 "nbformat": 4,
 "nbformat_minor": 2
}
