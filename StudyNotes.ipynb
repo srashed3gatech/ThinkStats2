{
 "cells": [
  {
   "cell_type": "markdown",
   "metadata": {},
   "source": [
    "# :: 4/28/2017 ::\n",
    "\n",
    "Exploratory Data Analysis\n",
    "\n",
    "\t- Importing and cleaning (clean, transform and check)    \n",
    "\t- Single variable exploration (variable meaning / distribution of values / choose appropriate summary stats)    \n",
    "\t- Pair Wise exploration (identify relationship - table/scatter plot, correlation, linear fit)    \n",
    "\t- Multivariate analysis (if relationship found - multiple regression to add control variable)    \n",
    "\t- Estimation and hypothesis testing (Answer 3 Question\n",
    "    \t\t○ How big is the effect\n",
    "        \t○ Variability over repeated measurement\n",
    "        \t○ Is apparent effect due to chance?)        \n",
    "    - Visualization (communicate result)\n",
    "    \n",
    "Dataset used by this book: \n",
    "\n",
    "The National Survey of Family Growth (NSFG), conducted by the U.S. Centers for Disease Control and Prevention (CDC) to gather\n",
    "\\information on family life, marriage and divorce, pregnancy, infertility, use of contraception, and men's and women's health.\" (See\n",
    "http://cdc.gov/nchs/nsfg.htm.)\n",
    "\n",
    "The Behavioral Risk Factor Surveillance System (BRFSS), conducted\n",
    "by the National Center for Chronic Disease Prevention and Health\n",
    "Promotion to \\track health conditions and risk behaviors in the United\n",
    "States.\" (See http://cdc.gov/BRFSS/.)\n",
    "\n",
    "Get the Book @ http://greenteapress.com/wp/think-stats-2e/"
   ]
  },
  {
   "cell_type": "markdown",
   "metadata": {},
   "source": [
    "# Chapter-1\n",
    "Anecdotal Evidence fails because -\n",
    "\n",
    "    (1) Small number of observation\n",
    "    (2) Selection bias\n",
    "    (3) Confirmation bias\n",
    "    (4) Inaccuracy (misremembered, misrepresented, repeated inaccuracy..)\n",
    "   \n",
    "Statistical Approach - conclusion that are justifiable and likely correct\n",
    "    \n",
    "    - Data Collection (e.g: survey data)\n",
    "    - Descriptive statistics (summarize data consizely and evaluate diff visualizations)\n",
    "    - Exploratory data analysis (pattern, differences..., inconsitency and limitations)\n",
    "    - Estimation (sample to represent general population)\n",
    "    - Hypothesis testing (test if apparent effect is by chance)\n",
    "    "
   ]
  },
  {
   "cell_type": "code",
   "execution_count": null,
   "metadata": {
    "collapsed": true
   },
   "outputs": [],
   "source": []
  }
 ],
 "metadata": {
  "kernelspec": {
   "display_name": "Python 3",
   "language": "python",
   "name": "python3"
  },
  "language_info": {
   "codemirror_mode": {
    "name": "ipython",
    "version": 3
   },
   "file_extension": ".py",
   "mimetype": "text/x-python",
   "name": "python",
   "nbconvert_exporter": "python",
   "pygments_lexer": "ipython3",
   "version": "3.6.0"
  }
 },
 "nbformat": 4,
 "nbformat_minor": 2
}
